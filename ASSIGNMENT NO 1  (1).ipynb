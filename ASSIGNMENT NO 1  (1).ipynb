{
 "cells": [
  {
   "cell_type": "code",
   "execution_count": 1,
   "metadata": {},
   "outputs": [
    {
     "name": "stdout",
     "output_type": "stream",
     "text": [
      "Input radius=56\n",
      "Area of Circle with radius 56 is 9852.03\n"
     ]
    }
   ],
   "source": [
    "# Q NO 1\n",
    "from math import *\n",
    "r=eval(input(\"Input radius=\"))\n",
    "A=pi*r**2\n",
    "print(\"Area of Circle with radius\",r,'is','%.2f' % (A))"
   ]
  },
  {
   "cell_type": "code",
   "execution_count": 2,
   "metadata": {},
   "outputs": [
    {
     "name": "stdout",
     "output_type": "stream",
     "text": [
      "Integer=89\n",
      "Positive Number Entered\n"
     ]
    }
   ],
   "source": [
    "# Q NO 2\n",
    "num=eval(input(\"Integer=\"))\n",
    "if num>0:\n",
    "    print(\"Positive Number Entered\")\n",
    "elif num<0:\n",
    "    print(\"Negetive Number Entered\")\n",
    "elif num==0:\n",
    "    print(\"Zero Entered\")"
   ]
  },
  {
   "cell_type": "code",
   "execution_count": 3,
   "metadata": {},
   "outputs": [
    {
     "name": "stdout",
     "output_type": "stream",
     "text": [
      "Enter numerator:8\n",
      "Enter Denominator:9\n",
      "Number 8 is not Completely divisible by 9\n"
     ]
    }
   ],
   "source": [
    "# task#03\n",
    "num_1=eval(input(\"Enter numerator:\"))\n",
    "num_2=eval(input(\"Enter Denominator:\"))\n",
    "if num_1%num_2==0:\n",
    "    print(\"Number\",num_1,\"is Completely divisible by\",num_2)\n",
    "else:    \n",
    "    print(\"Number\",num_1,\"is not Completely divisible by\",num_2)"
   ]
  },
  {
   "cell_type": "code",
   "execution_count": 4,
   "metadata": {},
   "outputs": [
    {
     "name": "stdout",
     "output_type": "stream",
     "text": [
      "Enter Radius of Sphere:79\n",
      "Volume of the Sphere with Radius 79 is 2065236.93\n"
     ]
    }
   ],
   "source": [
    "\n",
    "# task#05\n",
    "from math import *\n",
    "r=eval(input(\"Enter Radius of Sphere:\"))\n",
    "v=4/3*(pi*(r**3))\n",
    "print(\"Volume of the Sphere with Radius\",r,\"is\",'%.2f'%(v))"
   ]
  },
  {
   "cell_type": "code",
   "execution_count": 5,
   "metadata": {},
   "outputs": [
    {
     "name": "stdout",
     "output_type": "stream",
     "text": [
      "Enter Number:4\n",
      "4 is Even\n"
     ]
    }
   ],
   "source": [
    "# task#06\n",
    "num_1=eval(input(\"Enter Number:\"))\n",
    "if num_1%2==0:\n",
    "    print(num_1,\"is Even\")\n",
    "else:\n",
    "    print(num_1,\"is Odd\")"
   ]
  },
  {
   "cell_type": "code",
   "execution_count": 6,
   "metadata": {},
   "outputs": [
    {
     "name": "stdout",
     "output_type": "stream",
     "text": [
      "Enter String:SAAD\n",
      "How many copies of String you need:8\n",
      "8 copies of SAAD are:\n",
      "SAAD\n",
      "SAAD\n",
      "SAAD\n",
      "SAAD\n",
      "SAAD\n",
      "SAAD\n",
      "SAAD\n",
      "SAAD\n"
     ]
    }
   ],
   "source": [
    "# task#07\n",
    "str_=(input(\"Enter String:\"))\n",
    "num_=eval(input(\"How many copies of String you need:\"))\n",
    "if num_>0:\n",
    "    print(num_,\"copies of\",str_,\"are:\")\n",
    "    for i in range(0,num_):\n",
    "        print(str_)\n",
    "else:\n",
    "    print(\"You entered negative integer,please enter a positive integer for copies of a string\")"
   ]
  },
  {
   "cell_type": "code",
   "execution_count": 7,
   "metadata": {},
   "outputs": [
    {
     "name": "stdout",
     "output_type": "stream",
     "text": [
      "Enter Alphabet:U\n",
      "U is Vowel\n"
     ]
    }
   ],
   "source": [
    "\n",
    "# task#08\n",
    "str_=(input(\"Enter Alphabet:\"))\n",
    "vowel=['A','a','E','e','I','i','O','o','U','u']\n",
    "if str_ in vowel:\n",
    "    print(str_, \"is Vowel\")\n",
    "else:\n",
    "    print(str_, \"is consonent\")"
   ]
  },
  {
   "cell_type": "code",
   "execution_count": 9,
   "metadata": {},
   "outputs": [
    {
     "name": "stdout",
     "output_type": "stream",
     "text": [
      "Enter magnitude of Triangle base:89\n",
      "Enter Magnitude of Triangle Height:88\n",
      "Area of a Triangle with Height: 88 and base: 89 is 3916.00\n"
     ]
    }
   ],
   "source": [
    "\n",
    "b=eval(input(\"Enter magnitude of Triangle base:\"))\n",
    "h=eval(input(\"Enter Magnitude of Triangle Height:\"))\n",
    "a=0.5*b*h\n",
    "print(\"Area of a Triangle with Height:\",h,\"and base:\",b,\"is\",\"%.2f\"% (a))"
   ]
  },
  {
   "cell_type": "code",
   "execution_count": 10,
   "metadata": {},
   "outputs": [
    {
     "name": "stdout",
     "output_type": "stream",
     "text": [
      "Please enter principal amount:34\n",
      "Please Enter Rate of interest in %:33\n",
      "Enter number of years for investment:5\n",
      "After 5 years your principal amount 34 over an interest rate of 33 % will be 1544804416.00\n"
     ]
    }
   ],
   "source": [
    "# task#10\n",
    "p_amount=eval(input(\"Please enter principal amount:\"))\n",
    "i_rate=eval(input(\"Please Enter Rate of interest in %:\"))\n",
    "num_year=eval(input(\"Enter number of years for investment:\"))\n",
    "disc_function=p_amount*((1+i_rate)**num_year)\n",
    "print(\"After\",num_year,\"years your principal amount\",p_amount,\"over an interest rate of\",i_rate,\"% will be\",\"%.2f\"%(disc_function))"
   ]
  },
  {
   "cell_type": "code",
   "execution_count": 11,
   "metadata": {},
   "outputs": [
    {
     "name": "stdout",
     "output_type": "stream",
     "text": [
      "Enter Co-ordinate for x1:8\n",
      "Enter Co-ordinate for x2:6\n",
      "Enter Co-ordinate for y1:4\n",
      "Enter Co-ordinate for y2:1\n",
      "Distance between points ( 8 , 6 )and ( 4 , 1 ) is 3.61\n"
     ]
    }
   ],
   "source": [
    "\n",
    "# task#11\n",
    "from math import *\n",
    "x_1=eval(input(\"Enter Co-ordinate for x1:\"))\n",
    "x_2=eval(input(\"Enter Co-ordinate for x2:\"))\n",
    "y_1=eval(input(\"Enter Co-ordinate for y1:\"))\n",
    "y_2=eval(input(\"Enter Co-ordinate for y2:\"))\n",
    "d=sqrt(((x_2-x_1)**2)+((y_2-y_1)**2))\n",
    "print(\"Distance between points (\",x_1,',',x_2,\")and (\",y_1,',',y_2,\") is\",\"%.2f\"%(d))"
   ]
  },
  {
   "cell_type": "code",
   "execution_count": 12,
   "metadata": {},
   "outputs": [
    {
     "name": "stdout",
     "output_type": "stream",
     "text": [
      "Enter Height in Feet:45\n",
      "There are 1371.60 in 45 ft\n"
     ]
    }
   ],
   "source": [
    "# task#12\n",
    "h=eval(input(\"Enter Height in Feet:\"))\n",
    "cm=h*12*2.54\n",
    "print(\"There are\",\"%.2f\"%(cm),\"in\",h,\"ft\")"
   ]
  },
  {
   "cell_type": "code",
   "execution_count": 13,
   "metadata": {},
   "outputs": [
    {
     "name": "stdout",
     "output_type": "stream",
     "text": [
      "Enter Height in Cm:8\n",
      "Enter Weight in Kg:99\n",
      "Your BMI is 15468.75\n"
     ]
    }
   ],
   "source": [
    "\n",
    "# task#13\n",
    "h=eval(input(\"Enter Height in Cm:\"))\n",
    "h_1=h/100\n",
    "w=eval(input(\"Enter Weight in Kg:\"))\n",
    "BMI=(w/(h_1**2))      \n",
    "print(\"Your BMI is\",\"%.2f\"%(BMI))"
   ]
  },
  {
   "cell_type": "code",
   "execution_count": 14,
   "metadata": {},
   "outputs": [
    {
     "name": "stdout",
     "output_type": "stream",
     "text": [
      "Enter value of n:4\n",
      "Sum of n Positive integers till 4 is 10\n"
     ]
    }
   ],
   "source": [
    "# task#14\n",
    "num=eval(input(\"Enter value of n:\"))\n",
    "n=num\n",
    "if num>0:\n",
    "    for i in range(1,num):\n",
    "        num=num+i\n",
    "print(\"Sum of n Positive integers till\",n,\"is\",num)"
   ]
  },
  {
   "cell_type": "code",
   "execution_count": 15,
   "metadata": {},
   "outputs": [
    {
     "name": "stdout",
     "output_type": "stream",
     "text": [
      "Enter a date in (dd/mm/yy) format: 3/4/1994\n",
      "Enter a date in (dd/mm/yy) format: 3/6/2000\n",
      "There are  2253 days between  1994-04-03  and  2000-06-03\n"
     ]
    }
   ],
   "source": [
    "# task#04\n",
    "from datetime import datetime\n",
    "startDate = input(\"Enter a date in (dd/mm/yy) format: \")\n",
    "endDate = input(\"Enter a date in (dd/mm/yy) format: \")\n",
    "finalstartDate = datetime.strptime(startDate,\"%d/%m/%Y\").date()\n",
    "finalendDate = datetime.strptime(endDate,\"%d/%m/%Y\").date()\n",
    "remainingDays = finalendDate - finalstartDate\n",
    "print (\"There are \", remainingDays.days, \"days between \", finalstartDate,\" and \",finalendDate)"
   ]
  },
  {
   "cell_type": "code",
   "execution_count": 16,
   "metadata": {},
   "outputs": [
    {
     "name": "stdout",
     "output_type": "stream",
     "text": [
      "Enter a Number5\n",
      "5\n",
      "Sum Of 5 is 5\n"
     ]
    }
   ],
   "source": [
    "# task#15\n",
    "num=int(input(\"Enter a Number\"))\n",
    "sum_num=str(num)\n",
    "lst=list(sum_num)\n",
    "totalDigits=' + '.join(sum_num)\n",
    "print(totalDigits)\n",
    "total=0\n",
    "while num>0:\n",
    "    digit=num%10\n",
    "    total=total+digit\n",
    "    num=num//10\n",
    "print(\"Sum Of\",totalDigits,\"is\",total)"
   ]
  },
  {
   "cell_type": "code",
   "execution_count": 17,
   "metadata": {},
   "outputs": [
    {
     "name": "stdout",
     "output_type": "stream",
     "text": [
      "Enter a decimal number 4\n",
      "Binary Representation of  4  is  1 "
     ]
    }
   ],
   "source": [
    "# task#16\n",
    "deci_num=int(input(\"Enter a decimal number \"))\n",
    "finalDeci_Num=deci_num\n",
    "# to store binary numbers in list\n",
    "array=[]\n",
    "while(deci_num>0):\n",
    "    digit=deci_num%2\n",
    "    array.append(digit)\n",
    "    deci_num=deci_num//2\n",
    "    # Converting integer list to string list\n",
    "    s = [str(i) for i in array]      \n",
    "    # Join list items using join() \n",
    "    res = int(\"\".join(s))     \n",
    "array.reverse()\n",
    "print(\"Binary Representation of \",finalDeci_Num,\" is \",res,end=\" \")"
   ]
  },
  {
   "cell_type": "code",
   "execution_count": 18,
   "metadata": {},
   "outputs": [
    {
     "name": "stdout",
     "output_type": "stream",
     "text": [
      "Enter a Binary number 1\n",
      "Decimal Representation of  1  is  1.0\n"
     ]
    }
   ],
   "source": [
    "# task#17\n",
    "binaryNumber = input(\"Enter a Binary number \")\n",
    "binaryNumberList = list(binaryNumber)\n",
    "defaultValue = 0\n",
    "actualNumber = str(binaryNumber)\n",
    "for d in range(len(binaryNumberList)):\n",
    "    numbers = binaryNumberList.pop()\n",
    "    if numbers == '1':\n",
    "        defaultValue = defaultValue + pow(2, d)\n",
    "print(\"Decimal Representation of \", actualNumber,\" is \",defaultValue)"
   ]
  },
  {
   "cell_type": "code",
   "execution_count": 19,
   "metadata": {},
   "outputs": [
    {
     "name": "stdout",
     "output_type": "stream",
     "text": [
      "Enter Text SAAD\n",
      "Vowels :  2\n",
      "Consonants :  2\n"
     ]
    }
   ],
   "source": [
    "\n",
    "# task#18\n",
    "userInput =input(\"Enter Text \")\n",
    "vowels = 0\n",
    "consonants = 0\n",
    "for i in userInput:\n",
    "    if(i == 'a' or i == 'e' or i == 'i' or i == 'o' or i == 'u'\n",
    "       or i == 'A' or i == 'E' or i == 'I' or i == 'O' or i == 'U'):\n",
    "        vowels = vowels + 1\n",
    "    else:\n",
    "        consonants = consonants + 1\n",
    "print(\"Vowels : \",vowels)\n",
    "print(\"Consonants : \",consonants)"
   ]
  },
  {
   "cell_type": "code",
   "execution_count": 20,
   "metadata": {},
   "outputs": [
    {
     "name": "stdout",
     "output_type": "stream",
     "text": [
      "Enter Text :SAADI\n",
      "Text  SAADI  is not Palindrome\n"
     ]
    }
   ],
   "source": [
    "\n",
    "# task#19\n",
    "userInput = input(\"Enter Text :\")\n",
    "palindrome = userInput[::-1]\n",
    "if userInput == palindrome:\n",
    "    print(\"Text \" , userInput,\" is Palindrome\")\n",
    "else:\n",
    "    print(\"Text \" , userInput,\" is not Palindrome\")"
   ]
  },
  {
   "cell_type": "code",
   "execution_count": 21,
   "metadata": {},
   "outputs": [
    {
     "name": "stdout",
     "output_type": "stream",
     "text": [
      "Please Enter your Own String : SAADI SIDDIQUI\n",
      "\n",
      "Total Number of Alphabets in this String :   13\n",
      "Total Number of Digits in this String :   0\n",
      "Total Number of Special Characters in this String :   0\n",
      "Total Number of Spaces in this String :   1\n"
     ]
    }
   ],
   "source": [
    "# task#20\n",
    "userInput = input(\"Please Enter your Own String : \")\n",
    "alphabets = digits = special = 0\n",
    "spaces = userInput.count(' ')\n",
    "for i in range(len(userInput)):\n",
    "    if(userInput[i].isalpha()):\n",
    "        alphabets = alphabets + 1\n",
    "    elif(userInput[i].isdigit()):\n",
    "        digits = digits + 1\n",
    "    else:\n",
    "        special = special + 1\n",
    "specialCharacter = special - spaces\n",
    "print(\"\\nTotal Number of Alphabets in this String :  \", alphabets)\n",
    "print(\"Total Number of Digits in this String :  \", digits)\n",
    "print(\"Total Number of Special Characters in this String :  \", specialCharacter) \n",
    "print(\"Total Number of Spaces in this String :  \", spaces)"
   ]
  },
  {
   "cell_type": "code",
   "execution_count": 22,
   "metadata": {},
   "outputs": [
    {
     "name": "stdout",
     "output_type": "stream",
     "text": [
      "\n",
      "* \n",
      "* * \n",
      "* * * \n",
      "* * * * \n",
      "* * * * * \n",
      "* * * * \n",
      "* * * \n",
      "* * \n",
      "* \n"
     ]
    }
   ],
   "source": [
    "# task#21\n",
    "number=5;\n",
    "for i in range(number):\n",
    "    for j in range(i):\n",
    "        print ('* ', end=\"\")  \n",
    "    print('')\n",
    "for i in range(number,0,-1):\n",
    "    for j in range(i):\n",
    "        print('* ', end=\"\")\n",
    "    print('')"
   ]
  },
  {
   "cell_type": "code",
   "execution_count": 23,
   "metadata": {},
   "outputs": [
    {
     "name": "stdout",
     "output_type": "stream",
     "text": [
      "\n",
      "1\n",
      "12\n",
      "123\n",
      "1234\n",
      "12345\n",
      "1234\n",
      "123\n",
      "12\n",
      "1\n"
     ]
    }
   ],
   "source": [
    "# task#22\n",
    "number=5\n",
    "random = 1\n",
    "for i in range(number):\n",
    "    for j in range(i):\n",
    "        print (j+1, end=\"\")\n",
    "    print('')\n",
    "for i in range(5,0,-1):\n",
    "    for j in range(i):\n",
    "        print(j+1, end=\"\")\n",
    "    print('')"
   ]
  },
  {
   "cell_type": "code",
   "execution_count": 24,
   "metadata": {},
   "outputs": [
    {
     "name": "stdout",
     "output_type": "stream",
     "text": [
      "\n",
      "1\n",
      "22\n",
      "333\n",
      "4444\n",
      "55555\n",
      "666666\n",
      "7777777\n",
      "88888888\n",
      "999999999\n"
     ]
    }
   ],
   "source": [
    "\n",
    "# task#23\n",
    "for i in range(10):\n",
    "    print(str(i) * i)"
   ]
  },
  {
   "cell_type": "code",
   "execution_count": null,
   "metadata": {},
   "outputs": [],
   "source": []
  }
 ],
 "metadata": {
  "kernelspec": {
   "display_name": "Python 3",
   "language": "python",
   "name": "python3"
  },
  "language_info": {
   "codemirror_mode": {
    "name": "ipython",
    "version": 3
   },
   "file_extension": ".py",
   "mimetype": "text/x-python",
   "name": "python",
   "nbconvert_exporter": "python",
   "pygments_lexer": "ipython3",
   "version": "3.7.3"
  }
 },
 "nbformat": 4,
 "nbformat_minor": 2
}

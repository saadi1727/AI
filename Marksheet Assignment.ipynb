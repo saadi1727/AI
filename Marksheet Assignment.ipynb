{
 "cells": [
  {
   "cell_type": "code",
   "execution_count": 5,
   "metadata": {},
   "outputs": [
    {
     "name": "stdout",
     "output_type": "stream",
     "text": [
      "Enter marks of english:89\n",
      "Enter marks of urdu:94\n",
      "Enter marks of maths:89\n",
      "Enter marks of islamiat:68\n",
      "Enter marks of pakstudies_marks:96\n",
      "percentage= 87.2\n",
      "Your Grade is A+\n"
     ]
    }
   ],
   "source": [
    "#Student Marksheet\n",
    "english_marks=eval(input(\"Enter marks of english:\"))\n",
    "urdu_marks=eval(input(\"Enter marks of urdu:\"))\n",
    "maths_marks=eval(input(\"Enter marks of maths:\"))\n",
    "islamiat_marks=eval(input(\"Enter marks of islamiat:\"))\n",
    "pakstudies_marks=eval(input(\"Enter marks of pakstudies_marks:\"))\n",
    "obtained_marks=english_marks+urdu_marks+maths_marks+islamiat_marks+pakstudies_marks\n",
    "total_marks=500\n",
    "percentage=((obtained_marks/total_marks)*100)\n",
    "print(\"percentage=\",percentage)\n",
    "if(percentage>=80 and percentage<=100):\n",
    "    print(\"Your Grade is A+\")\n",
    "elif(percentage>=70 and percentage<80):\n",
    "    print(\"Your Grade is A\")\n",
    "elif(percentage>=60 and percentage<70):\n",
    "    print(\"Your Grade is B\")\n",
    "elif(percentage>=50 and percentage<60):\n",
    "    print(\"Your Grade is C\")\n",
    "elif(percentage>=40 and percentage<50):\n",
    "    print(\"Your Grade is D\")\n",
    "else:\n",
    "    print(\"Your Grade is F\")"
   ]
  },
  {
   "cell_type": "code",
   "execution_count": null,
   "metadata": {},
   "outputs": [],
   "source": []
  },
  {
   "cell_type": "code",
   "execution_count": null,
   "metadata": {},
   "outputs": [],
   "source": []
  }
 ],
 "metadata": {
  "kernelspec": {
   "display_name": "Python 3",
   "language": "python",
   "name": "python3"
  },
  "language_info": {
   "codemirror_mode": {
    "name": "ipython",
    "version": 3
   },
   "file_extension": ".py",
   "mimetype": "text/x-python",
   "name": "python",
   "nbconvert_exporter": "python",
   "pygments_lexer": "ipython3",
   "version": "3.7.3"
  }
 },
 "nbformat": 4,
 "nbformat_minor": 2
}
